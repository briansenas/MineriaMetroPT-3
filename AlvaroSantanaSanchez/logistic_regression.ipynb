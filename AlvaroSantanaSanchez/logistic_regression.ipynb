{
 "cells": [
  {
   "cell_type": "code",
   "id": "initial_id",
   "metadata": {
    "collapsed": true
   },
   "source": [
    "import polars as pl\n",
    "from sklearn.linear_model import LogisticRegression\n",
    "from sklearn.metrics import f1_score\n",
    "from sklearn.metrics import recall_score\n",
    "from sklearn.model_selection import GridSearchCV\n",
    "\n",
    "TRAIN_PATH = \"../data/train.csv\"\n",
    "TEST_PATH = \"../data/test.csv\"\n"
   ],
   "outputs": [],
   "execution_count": null
  },
  {
   "metadata": {},
   "cell_type": "code",
   "source": [
    "train = pl.read_csv(TRAIN_PATH)\n",
    "test = pl.read_csv(TEST_PATH)\n",
    "skew_columns = [c for c in train.columns if \"skew\" in c]\n",
    "train = train.select(pl.exclude(skew_columns))\n",
    "test = test.select(pl.exclude(skew_columns))\n"
   ],
   "id": "169acff0d603a127",
   "outputs": [],
   "execution_count": null
  },
  {
   "metadata": {},
   "cell_type": "code",
   "source": "test.group_by(\"is_anomaly\").len()",
   "id": "e5d3d3479087b6e5",
   "outputs": [],
   "execution_count": null
  },
  {
   "metadata": {},
   "cell_type": "code",
   "source": [
    "# X, y = load_iris(return_X_y=True)\n",
    "# clf = LogisticRegression(random_state=0).fit(X, y)\n",
    "# clf.predict(X[:2, :])\n",
    "def manual_fold_training(\n",
    "        clf_model : LogisticRegression,\n",
    "        data : pl.DataFrame,\n",
    "        fold_number : int = 0,\n",
    "        *,\n",
    "        target_column : str = \"is_anomaly\"\n",
    "):\n",
    "    scores = {\"fold\":fold_number}\n",
    "    \n",
    "    fold_train = data.filter(pl.col(\"fold\") != fold_number).drop(\"fold\")\n",
    "    fold_test = data.filter(pl.col(\"fold\") == fold_number).drop(\"fold\")\n",
    "    X_train = (fold_train.select(pl.exclude(target_column))\n",
    "               .select(pl.col(pl.Float64)).with_columns(\n",
    "        pl.all().fill_nan(0)\n",
    "    ).to_numpy())\n",
    "    y_train =  fold_train.select(target_column).to_series().to_list()\n",
    "    clf_model.fit(X_train,y_train)\n",
    "    X_test = fold_test.select(pl.exclude(target_column)).to_numpy()\n",
    "    y_test =  fold_test.select(pl.col(target_column)).to_series().to_numpy()\n",
    "    y_pred = clf_model.predict(X_test)\n",
    "    scores[\"f1_score\"] = f1_score(y_test,y_pred)\n",
    "    scores[\"recall\"] = recall_score(y_test,y_pred)\n",
    "    \n",
    "    return scores\n",
    "\n",
    "    \n",
    "logistic_regressor = LogisticRegression(solver='liblinear',C=100.0,penalty=\"l2\",max_iter=1000)\n",
    "\n",
    "fold_scores = []\n",
    "for fold in train[\"fold\"].unique().to_list():\n",
    "    fold_scores.append(manual_fold_training(clf_model=logistic_regressor,\n",
    "                         data=train,\n",
    "                         fold_number=fold))\n",
    "    \n",
    "    \n",
    "df_scores = pl.DataFrame(fold_scores)\n",
    "# mean_row = df_scores.select(pl.all().mean().cast(pl.Float64))\n",
    "# df_with_mean = df_scores.with_columns(pl.col(\"fold\").cast(pl.Utf8)).vstack(mean_row)\n",
    "# df_with_mean"
   ],
   "id": "618eca8ddae6c34e",
   "outputs": [],
   "execution_count": null
  },
  {
   "metadata": {},
   "cell_type": "code",
   "source": [
    "from sklearn.model_selection import GridSearchCV\n",
    "import numpy as np\n",
    "import pandas as pd\n",
    "\n",
    "seed = 140421\n",
    "np.random.seed(seed)\n",
    "\n",
    "target_column = 'is_anomaly'\n",
    "fold_column = 'fold'\n",
    "\n",
    "X_train = train.select(pl.exclude(target_column)).to_pandas()\n",
    "y_train =  train.select(target_column).to_series().to_numpy()\n",
    "\n",
    "def get_cv_iterable(\n",
    "  folds: list,\n",
    "  fold_column: str,\n",
    "  train: pd.DataFrame,\n",
    "):\n",
    "    print(train.columns)\n",
    "    for fold in folds:\n",
    "        test_indexes = train[train[fold_column] == fold].index\n",
    "        train_indexes = train[train[fold_column] != fold].index\n",
    "        yield (train_indexes, test_indexes)\n",
    "\n",
    "# X_test = test_data[feature_columns]\n",
    "# y_test = test_data[target_column]\n",
    "\n",
    "# Set up cross-validation using the 'folds' column\n",
    "folds = train[\"fold\"].unique().to_list()\n",
    " \n",
    "grid={\"C\":np.logspace(-3,3,7), \"penalty\":[\"l2\"]}\n",
    "cv = GridSearchCV(\n",
    "  estimator = LogisticRegression(solver='liblinear'), \n",
    "  param_grid=grid,\n",
    "  cv = get_cv_iterable(folds, fold_column, X_train),\n",
    "  scoring=[\n",
    "    \"f1\",\n",
    "    \"recall\",\n",
    "    \"precision\", \n",
    "    \"accuracy\"\n",
    "  ],\n",
    "  refit=\"f1\",\n",
    ")\n",
    "\n",
    "cv.fit(X_train, y_train)\n",
    "with pd.option_context(\"display.max_columns\", 33):\n",
    "  display(pd.DataFrame(cv.cv_results_))\n"
   ],
   "id": "4bf5f1f0d7120cd8",
   "outputs": [],
   "execution_count": null
  },
  {
   "metadata": {},
   "cell_type": "code",
   "source": "pl.DataFrame(cv.cv_results_).select(\"params\",\"mean_test_f1\")",
   "id": "ac51b39450238512",
   "outputs": [],
   "execution_count": null
  },
  {
   "metadata": {},
   "cell_type": "code",
   "source": [
    "from sklearn.ensemble import AdaBoostClassifier, AdaBoostRegressor\n",
    "from sklearn.tree import DecisionTreeClassifier\n",
    "grid = {\"estimator__criterion\" : [\"gini\", \"entropy\"],\n",
    "              \"estimator__splitter\" :   [\"best\", \"random\"],\n",
    "              \"n_estimators\": [1, 2]\n",
    "             }\n",
    "\n",
    "DTC = DecisionTreeClassifier(random_state = seed)\n",
    "\n",
    "cv2 = GridSearchCV(\n",
    "    estimator = AdaBoostClassifier(estimator = DTC),\n",
    "    param_grid=grid,\n",
    "    cv = get_cv_iterable(folds, fold_column, X_train),\n",
    "    scoring=[\n",
    "        \"f1\",\n",
    "        \"recall\",\n",
    "        \"precision\",\n",
    "        \"accuracy\"\n",
    "    ],\n",
    "    refit=\"f1\",\n",
    ")\n",
    "\n",
    "\n",
    "cv2.fit(X_train, y_train)\n",
    "with pd.option_context(\"display.max_columns\", 33):\n",
    "    display(pd.DataFrame(cv2.cv_results_))\n",
    "\n"
   ],
   "id": "abdaadedc417fec",
   "outputs": [],
   "execution_count": null
  },
  {
   "metadata": {},
   "cell_type": "code",
   "source": "pl.DataFrame(cv2.cv_results_).select(\"params\",\"mean_test_f1\")",
   "id": "a92957cc1a27a154",
   "outputs": [],
   "execution_count": null
  },
  {
   "metadata": {},
   "cell_type": "code",
   "source": [
    "predictions = logistic_regressor.predict(test.select([a for a in X_train.columns if \"fold\" != a]))\n",
    "f1_score(test.select(\"is_anomaly\").to_series().to_list(),predictions)"
   ],
   "id": "1810e552ea97482b",
   "outputs": [],
   "execution_count": null
  },
  {
   "metadata": {},
   "cell_type": "code",
   "source": "clfAda = AdaBoostClassifier(DecisionTreeClassifier(random_state = seed,criterion=\"entropy\",splitter=\"random\"),n_estimators=2).fit(X_train[[a for a in X_train.columns if \"fold\" != a]],y_train)\n",
   "id": "bc3ddca81625e82d",
   "outputs": [],
   "execution_count": null
  },
  {
   "metadata": {},
   "cell_type": "code",
   "source": [
    "predictions = clfAda.predict(test.select([a for a in X_train.columns if \"fold\" != a]))\n",
    "f1_score(test.select(\"is_anomaly\").to_series().to_list(),predictions)"
   ],
   "id": "d3c9f6123514c71f",
   "outputs": [],
   "execution_count": null
  }
 ],
 "metadata": {
  "kernelspec": {
   "display_name": "Python 3",
   "language": "python",
   "name": "python3"
  },
  "language_info": {
   "codemirror_mode": {
    "name": "ipython",
    "version": 2
   },
   "file_extension": ".py",
   "mimetype": "text/x-python",
   "name": "python",
   "nbconvert_exporter": "python",
   "pygments_lexer": "ipython2",
   "version": "2.7.6"
  }
 },
 "nbformat": 4,
 "nbformat_minor": 5
}
