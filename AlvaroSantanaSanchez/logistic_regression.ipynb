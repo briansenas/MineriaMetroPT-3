{
 "cells": [
  {
   "cell_type": "code",
   "id": "initial_id",
   "metadata": {
    "collapsed": true,
    "ExecuteTime": {
     "end_time": "2025-01-22T16:18:03.458702Z",
     "start_time": "2025-01-22T16:18:03.450680Z"
    }
   },
   "source": [
    "import polars as pl\n",
    "from sklearn.linear_model import LogisticRegression\n",
    "from sklearn.metrics import f1_score\n",
    "from sklearn.metrics import recall_score\n",
    "from sklearn.model_selection import GridSearchCV\n",
    "\n",
    "TRAIN_PATH = \"train.csv\""
   ],
   "outputs": [],
   "execution_count": 99
  },
  {
   "metadata": {
    "ExecuteTime": {
     "end_time": "2025-01-22T16:16:21.882722Z",
     "start_time": "2025-01-22T16:16:21.862782Z"
    }
   },
   "cell_type": "code",
   "source": [
    "train = pl.read_csv(TRAIN_PATH)\n",
    "skew_columns = [c for c in train.columns if \"skew\" in c]\n",
    "train = train.select(pl.exclude(skew_columns))"
   ],
   "id": "169acff0d603a127",
   "outputs": [],
   "execution_count": 97
  },
  {
   "metadata": {
    "ExecuteTime": {
     "end_time": "2025-01-22T16:25:12.845267Z",
     "start_time": "2025-01-22T16:25:11.696321Z"
    }
   },
   "cell_type": "code",
   "source": [
    "# X, y = load_iris(return_X_y=True)\n",
    "# clf = LogisticRegression(random_state=0).fit(X, y)\n",
    "# clf.predict(X[:2, :])\n",
    "def manual_fold_training(\n",
    "        clf_model : LogisticRegression,\n",
    "        data : pl.DataFrame,\n",
    "        fold_number : int = 0,\n",
    "        *,\n",
    "        target_column : str = \"is_anomaly\"\n",
    "):\n",
    "    scores = {\"fold\":fold_number}\n",
    "    \n",
    "    fold_train = data.filter(pl.col(\"fold\") != fold_number).drop(\"fold\")\n",
    "    fold_test = data.filter(pl.col(\"fold\") == fold_number).drop(\"fold\")\n",
    "    \n",
    "    X_train = (fold_train.select(pl.exclude(target_column))\n",
    "               .select(pl.col(pl.Float64)).with_columns(\n",
    "        pl.all().fill_nan(0)\n",
    "    ).to_numpy())\n",
    "    y_train =  fold_train.select(target_column).to_series().to_list()\n",
    "    clf_model.fit(X_train,y_train)\n",
    "    X_test = fold_test.select(pl.exclude(target_column)).to_numpy()\n",
    "    y_test =  fold_test.select(pl.col(target_column)).to_series().to_numpy()\n",
    "    y_pred = clf_model.predict(X_test)\n",
    "    scores[\"f1_score\"] = f1_score(y_test,y_pred)\n",
    "    scores[\"recall\"] = recall_score(y_test,y_pred)\n",
    "    \n",
    "    return scores\n",
    "\n",
    "    \n",
    "logistic_regressor = LogisticRegression(penalty=\"l2\",max_iter=1000)\n",
    "\n",
    "fold_scores = []\n",
    "for fold in train[\"fold\"].unique().to_list():\n",
    "    fold_scores.append(manual_fold_training(clf_model=logistic_regressor,\n",
    "                         data=train,\n",
    "                         fold_number=fold))\n",
    "    \n",
    "    \n",
    "df_scores = pl.DataFrame(fold_scores)\n",
    "df_scores"
   ],
   "id": "618eca8ddae6c34e",
   "outputs": [
    {
     "data": {
      "text/plain": [
       "shape: (4, 3)\n",
       "┌──────┬──────────┬──────────┐\n",
       "│ fold ┆ f1_score ┆ recall   │\n",
       "│ ---  ┆ ---      ┆ ---      │\n",
       "│ i64  ┆ f64      ┆ f64      │\n",
       "╞══════╪══════════╪══════════╡\n",
       "│ 0    ┆ 0.740741 ┆ 0.666667 │\n",
       "│ 1    ┆ 0.666667 ┆ 0.633333 │\n",
       "│ 2    ┆ 0.802817 ┆ 0.791667 │\n",
       "│ 3    ┆ 0.888889 ┆ 0.8      │\n",
       "└──────┴──────────┴──────────┘"
      ],
      "text/html": [
       "<div><style>\n",
       ".dataframe > thead > tr,\n",
       ".dataframe > tbody > tr {\n",
       "  text-align: right;\n",
       "  white-space: pre-wrap;\n",
       "}\n",
       "</style>\n",
       "<small>shape: (4, 3)</small><table border=\"1\" class=\"dataframe\"><thead><tr><th>fold</th><th>f1_score</th><th>recall</th></tr><tr><td>i64</td><td>f64</td><td>f64</td></tr></thead><tbody><tr><td>0</td><td>0.740741</td><td>0.666667</td></tr><tr><td>1</td><td>0.666667</td><td>0.633333</td></tr><tr><td>2</td><td>0.802817</td><td>0.791667</td></tr><tr><td>3</td><td>0.888889</td><td>0.8</td></tr></tbody></table></div>"
      ]
     },
     "execution_count": 110,
     "metadata": {},
     "output_type": "execute_result"
    }
   ],
   "execution_count": 110
  },
  {
   "metadata": {
    "ExecuteTime": {
     "end_time": "2025-01-22T16:25:17.342088Z",
     "start_time": "2025-01-22T16:25:17.324062Z"
    }
   },
   "cell_type": "code",
   "source": "df_scores.select(pl.col(\"f1_score\").mean(),pl.col(\"recall\").mean())",
   "id": "ff377af9f2e760c0",
   "outputs": [
    {
     "data": {
      "text/plain": [
       "shape: (1, 2)\n",
       "┌──────────┬──────────┐\n",
       "│ f1_score ┆ recall   │\n",
       "│ ---      ┆ ---      │\n",
       "│ f64      ┆ f64      │\n",
       "╞══════════╪══════════╡\n",
       "│ 0.774778 ┆ 0.722917 │\n",
       "└──────────┴──────────┘"
      ],
      "text/html": [
       "<div><style>\n",
       ".dataframe > thead > tr,\n",
       ".dataframe > tbody > tr {\n",
       "  text-align: right;\n",
       "  white-space: pre-wrap;\n",
       "}\n",
       "</style>\n",
       "<small>shape: (1, 2)</small><table border=\"1\" class=\"dataframe\"><thead><tr><th>f1_score</th><th>recall</th></tr><tr><td>f64</td><td>f64</td></tr></thead><tbody><tr><td>0.774778</td><td>0.722917</td></tr></tbody></table></div>"
      ]
     },
     "execution_count": 111,
     "metadata": {},
     "output_type": "execute_result"
    }
   ],
   "execution_count": 111
  },
  {
   "metadata": {
    "ExecuteTime": {
     "end_time": "2025-01-22T16:30:55.222865Z",
     "start_time": "2025-01-22T16:30:55.191253Z"
    }
   },
   "cell_type": "code",
   "source": "train.group_by(\"is_anomaly\",\"fold\").len().sort(\"fold\",\"is_anomaly\")",
   "id": "69a61534b403bac6",
   "outputs": [
    {
     "data": {
      "text/plain": [
       "shape: (8, 3)\n",
       "┌────────────┬──────┬──────┐\n",
       "│ is_anomaly ┆ fold ┆ len  │\n",
       "│ ---        ┆ ---  ┆ ---  │\n",
       "│ bool       ┆ i64  ┆ u32  │\n",
       "╞════════════╪══════╪══════╡\n",
       "│ false      ┆ 0    ┆ 621  │\n",
       "│ true       ┆ 0    ┆ 30   │\n",
       "│ false      ┆ 1    ┆ 1245 │\n",
       "│ true       ┆ 1    ┆ 30   │\n",
       "│ false      ┆ 2    ┆ 2420 │\n",
       "│ true       ┆ 2    ┆ 72   │\n",
       "│ false      ┆ 3    ┆ 570  │\n",
       "│ true       ┆ 3    ┆ 30   │\n",
       "└────────────┴──────┴──────┘"
      ],
      "text/html": [
       "<div><style>\n",
       ".dataframe > thead > tr,\n",
       ".dataframe > tbody > tr {\n",
       "  text-align: right;\n",
       "  white-space: pre-wrap;\n",
       "}\n",
       "</style>\n",
       "<small>shape: (8, 3)</small><table border=\"1\" class=\"dataframe\"><thead><tr><th>is_anomaly</th><th>fold</th><th>len</th></tr><tr><td>bool</td><td>i64</td><td>u32</td></tr></thead><tbody><tr><td>false</td><td>0</td><td>621</td></tr><tr><td>true</td><td>0</td><td>30</td></tr><tr><td>false</td><td>1</td><td>1245</td></tr><tr><td>true</td><td>1</td><td>30</td></tr><tr><td>false</td><td>2</td><td>2420</td></tr><tr><td>true</td><td>2</td><td>72</td></tr><tr><td>false</td><td>3</td><td>570</td></tr><tr><td>true</td><td>3</td><td>30</td></tr></tbody></table></div>"
      ]
     },
     "execution_count": 117,
     "metadata": {},
     "output_type": "execute_result"
    }
   ],
   "execution_count": 117
  }
 ],
 "metadata": {
  "kernelspec": {
   "display_name": "Python 3",
   "language": "python",
   "name": "python3"
  },
  "language_info": {
   "codemirror_mode": {
    "name": "ipython",
    "version": 2
   },
   "file_extension": ".py",
   "mimetype": "text/x-python",
   "name": "python",
   "nbconvert_exporter": "python",
   "pygments_lexer": "ipython2",
   "version": "2.7.6"
  }
 },
 "nbformat": 4,
 "nbformat_minor": 5
}
