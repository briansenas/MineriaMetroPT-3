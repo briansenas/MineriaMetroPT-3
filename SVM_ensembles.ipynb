{
 "cells": [
  {
   "cell_type": "markdown",
   "id": "c36e5f83-4346-4d1e-b4ad-0a8da4260db3",
   "metadata": {},
   "source": [
    "# MODELO SVM Y TÉCNICAS DE BAGGING\n",
    "\n",
    "Antes de comenzar con los modelos de clasificación, se han importado las librerías necesarias para todo el código, seguido de la lectura de los conjuntos de entrenamiento y test."
   ]
  },
  {
   "cell_type": "code",
   "execution_count": 1,
   "id": "5d9b364b-cbd1-4eb6-ab86-c78149d7bfbb",
   "metadata": {},
   "outputs": [],
   "source": [
    "import numpy as np\n",
    "import pandas as pd\n",
    "from sklearn.svm import SVC\n",
    "from sklearn.metrics import classification_report, confusion_matrix\n",
    "from sklearn.model_selection import GridSearchCV\n",
    "from sklearn.ensemble import RandomForestClassifier, ExtraTreesClassifier, BaggingClassifier\n",
    "from sklearn.tree import DecisionTreeClassifier\n",
    "from sklearn.preprocessing import StandardScaler\n",
    "import matplotlib.pyplot as plt\n",
    "import seaborn as sns"
   ]
  },
  {
   "cell_type": "code",
   "execution_count": 5,
   "id": "9e8955a3-f352-4727-9957-9e0a6282e70c",
   "metadata": {},
   "outputs": [],
   "source": [
    "#Cargar los ficheros de entrenamiento y de test\n",
    "train = pd.read_csv('train.csv')\n",
    "test = pd.read_csv('test.csv')"
   ]
  },
  {
   "cell_type": "markdown",
   "id": "cff78e54-2305-48a6-a5c6-9b7479789bb7",
   "metadata": {},
   "source": [
    "Ahora, se han separado los valores (X) de las etiquetas (y) para train y para test. Posteriormente, se han escalado los datos para tratar la gran variabilidad presente en las escalas de los datos y facilitar la convergencia."
   ]
  },
  {
   "cell_type": "code",
   "execution_count": 10,
   "id": "2ceeb485-ab93-4392-b6fa-2a5b43f77926",
   "metadata": {},
   "outputs": [],
   "source": [
    "#Tomar los datos X_train e y_test\n",
    "X_train = train.drop(columns=['is_anomaly', 'fold'])\n",
    "y_train = train['is_anomaly']\n",
    "X_test = test.drop(columns=['is_anomaly'])\n",
    "y_test = test['is_anomaly']\n",
    "\n",
    "#Escalar los datos de entrenamiento y de test\n",
    "scaler = StandardScaler()\n",
    "X_train_scaled = scaler.fit_transform(X_train)\n",
    "X_test_scaled = scaler.fit_transform(X_test)"
   ]
  },
  {
   "cell_type": "markdown",
   "id": "c0f06f33-3765-4a44-86df-ae10d870e8c5",
   "metadata": {},
   "source": [
    "Posteriormente, se ha implementado la fucnión para separar los datos de entrenamiento en 4 folds para la validación cruzada."
   ]
  },
  {
   "cell_type": "code",
   "execution_count": 13,
   "id": "985aaac9-a10c-4673-87d4-3fb69e1a040b",
   "metadata": {},
   "outputs": [],
   "source": [
    "# Función para generar los splits según los folds existentes en el dataset de entrenamiento\n",
    "def get_cv_iterable(folds, fold_column, train):\n",
    "    for fold in folds:\n",
    "        test_indexes = train[train[fold_column] == fold].index\n",
    "        train_indexes = train[train[fold_column] != fold].index\n",
    "        yield (train_indexes, test_indexes)\n",
    "\n",
    "# Obtener los folds únicos\n",
    "folds = train['fold'].unique()"
   ]
  },
  {
   "cell_type": "markdown",
   "id": "19d713a2-ebb0-475c-bf0d-6c11d8071f9f",
   "metadata": {},
   "source": [
    "## Modelo SVM\n",
    "\n",
    "En primer lugar, se han seleccionado diferentes valores para los hiperparámetros C, gamma y kernel del SVM. Tras esto, se ha entrenado el modelo SVM y se ha evaluado el mejor modelo obtenido con el conjunto de prueba."
   ]
  },
  {
   "cell_type": "code",
   "execution_count": 18,
   "id": "c51d8266-bdf5-4e50-8fd4-da41caf9ac6f",
   "metadata": {},
   "outputs": [
    {
     "name": "stdout",
     "output_type": "stream",
     "text": [
      "Fitting 4 folds for each of 18 candidates, totalling 72 fits\n",
      "Best Parameters: {'C': 10, 'gamma': 'auto', 'kernel': 'rbf'}\n",
      "\n",
      "Classification Report:\n",
      "               precision    recall  f1-score   support\n",
      "\n",
      "       False       0.99      1.00      1.00      1279\n",
      "        True       0.98      0.86      0.92        74\n",
      "\n",
      "    accuracy                           0.99      1353\n",
      "   macro avg       0.99      0.93      0.96      1353\n",
      "weighted avg       0.99      0.99      0.99      1353\n",
      "\n",
      "\n",
      "Confusion Matrix:\n",
      " [[1278    1]\n",
      " [  10   64]]\n"
     ]
    }
   ],
   "source": [
    "# Definir los parámetros para GridSearchCV\n",
    "param_grid = {\n",
    "    'C': [0.1, 1, 10],       # Parámetro de penalización\n",
    "    'gamma': ['scale', 'auto', 0.1], \n",
    "    'kernel': ['rbf', 'linear']  # Tipos de kernel\n",
    "}\n",
    "\n",
    "# Crear el generador de splits con la función\n",
    "cv_iterable = get_cv_iterable(folds=folds, fold_column='fold', train=train)\n",
    "\n",
    "# Configurar GridSearchCV\n",
    "grid_search = GridSearchCV(\n",
    "    estimator=SVC(),\n",
    "    param_grid=param_grid,\n",
    "    scoring='accuracy',\n",
    "    cv=cv_iterable, \n",
    "    n_jobs=-1, \n",
    "    verbose=1\n",
    ")\n",
    "\n",
    "# Entrenar el modelo SVM\n",
    "grid_search.fit(X_train_scaled, y_train)\n",
    "\n",
    "# Evaluar el mejor modelo en el conjunto de test\n",
    "best_model = grid_search.best_estimator_\n",
    "\n",
    "y_pred_test = best_model.predict(X_test_scaled)\n",
    "\n",
    "print(\"Best Parameters:\", grid_search.best_params_)\n",
    "print(\"\\nClassification Report:\\n\", classification_report(y_test, y_pred_test))\n",
    "print(\"\\nConfusion Matrix:\\n\", confusion_matrix(y_test, y_pred_test))"
   ]
  },
  {
   "cell_type": "markdown",
   "id": "b864019b-ef97-4613-a7f7-0b5d01454721",
   "metadata": {},
   "source": [
    "## Bagging\n",
    "\n",
    "Para estas técnicas no se han escalado los datos."
   ]
  },
  {
   "cell_type": "code",
   "execution_count": 22,
   "id": "153005ad-d3fe-4727-b60a-0b513b801f35",
   "metadata": {},
   "outputs": [
    {
     "name": "stdout",
     "output_type": "stream",
     "text": [
      "Fitting 4 folds for each of 81 candidates, totalling 324 fits\n",
      "Best Parameters (Random Forest): {'max_depth': None, 'min_samples_leaf': 4, 'min_samples_split': 2, 'n_estimators': 100}\n",
      "\n",
      "Classification Report (Random Forest):\n",
      "               precision    recall  f1-score   support\n",
      "\n",
      "       False       1.00      1.00      1.00      1279\n",
      "        True       0.96      0.95      0.95        74\n",
      "\n",
      "    accuracy                           0.99      1353\n",
      "   macro avg       0.98      0.97      0.97      1353\n",
      "weighted avg       0.99      0.99      0.99      1353\n",
      "\n",
      "\n",
      "Confusion Matrix (Random Forest):\n",
      " [[1276    3]\n",
      " [   4   70]]\n"
     ]
    }
   ],
   "source": [
    "#Código para implementar el Random Forest\n",
    "param_grid_rf = {\n",
    "    'n_estimators': [100, 200, 300],  # Número de árboles\n",
    "    'max_depth': [None, 10, 20],      # Profundidad máxima de cada árbol\n",
    "    'min_samples_split': [2, 5, 10],  # Mínimo de muestras para dividir un nodo\n",
    "    'min_samples_leaf': [1, 2, 4]     # Mínimo de muestras en las hojas\n",
    "}\n",
    "\n",
    "cv_iterable = get_cv_iterable(folds=folds, fold_column='fold', train=train)\n",
    "\n",
    "grid_search_rf = GridSearchCV(\n",
    "    estimator=RandomForestClassifier(random_state=42),\n",
    "    param_grid=param_grid_rf,\n",
    "    scoring='accuracy',\n",
    "    cv=cv_iterable,\n",
    "    n_jobs=-1,\n",
    "    verbose=1\n",
    ")\n",
    "\n",
    "grid_search_rf.fit(X_train, y_train)\n",
    "\n",
    "best_rf_model = grid_search_rf.best_estimator_\n",
    "y_pred_rf_test = best_rf_model.predict(X_test)\n",
    "\n",
    "print(\"Best Parameters (Random Forest):\", grid_search_rf.best_params_)\n",
    "print(\"\\nClassification Report (Random Forest):\\n\", classification_report(y_test, y_pred_rf_test))\n",
    "print(\"\\nConfusion Matrix (Random Forest):\\n\", confusion_matrix(y_test, y_pred_rf_test))"
   ]
  },
  {
   "cell_type": "code",
   "execution_count": 25,
   "id": "5d614e9f-eb4e-46db-a2e8-b05a0dc13238",
   "metadata": {},
   "outputs": [
    {
     "name": "stdout",
     "output_type": "stream",
     "text": [
      "Fitting 4 folds for each of 16 candidates, totalling 64 fits\n",
      "Best Parameters (ExtraTrees): {'max_depth': 10, 'min_samples_leaf': 2, 'min_samples_split': 5, 'n_estimators': 200}\n",
      "\n",
      "Classification Report (ExtraTrees):\n",
      "               precision    recall  f1-score   support\n",
      "\n",
      "       False       1.00      1.00      1.00      1279\n",
      "        True       0.97      0.93      0.95        74\n",
      "\n",
      "    accuracy                           0.99      1353\n",
      "   macro avg       0.98      0.97      0.97      1353\n",
      "weighted avg       0.99      0.99      0.99      1353\n",
      "\n",
      "\n",
      "Confusion Matrix (ExtraTrees):\n",
      " [[1277    2]\n",
      " [   5   69]]\n"
     ]
    }
   ],
   "source": [
    "#Códgio para ExtraTrees\n",
    "param_grid_et = {\n",
    "    'n_estimators': [100, 200],\n",
    "    'max_depth': [None, 10],\n",
    "    'min_samples_split': [2, 5],\n",
    "    'min_samples_leaf': [1, 2]\n",
    "}\n",
    "\n",
    "cv_iterable = get_cv_iterable(folds=folds, fold_column='fold', train=train)\n",
    "\n",
    "grid_search_et = GridSearchCV(\n",
    "    estimator=ExtraTreesClassifier(random_state=42),\n",
    "    param_grid=param_grid_et,\n",
    "    scoring='accuracy',\n",
    "    cv=cv_iterable,\n",
    "    n_jobs=-1,\n",
    "    verbose=1\n",
    ")\n",
    "\n",
    "grid_search_et.fit(X_train, y_train)\n",
    "\n",
    "best_et_model = grid_search_et.best_estimator_\n",
    "y_pred_et_test = best_et_model.predict(X_test)\n",
    "\n",
    "print(\"Best Parameters (ExtraTrees):\", grid_search_et.best_params_)\n",
    "print(\"\\nClassification Report (ExtraTrees):\\n\", classification_report(y_test, y_pred_et_test))\n",
    "print(\"\\nConfusion Matrix (ExtraTrees):\\n\", confusion_matrix(y_test, y_pred_et_test))"
   ]
  },
  {
   "cell_type": "code",
   "execution_count": 27,
   "id": "3dc31533-806a-40fd-9e99-109e6f48ca3e",
   "metadata": {},
   "outputs": [
    {
     "name": "stdout",
     "output_type": "stream",
     "text": [
      "Fitting 4 folds for each of 27 candidates, totalling 108 fits\n",
      "Best Parameters (Random Subspaces): {'estimator__max_depth': None, 'max_features': 0.5, 'n_estimators': 50}\n",
      "\n",
      "Classification Report (Random Subspaces):\n",
      "               precision    recall  f1-score   support\n",
      "\n",
      "       False       1.00      1.00      1.00      1279\n",
      "        True       0.96      0.92      0.94        74\n",
      "\n",
      "    accuracy                           0.99      1353\n",
      "   macro avg       0.98      0.96      0.97      1353\n",
      "weighted avg       0.99      0.99      0.99      1353\n",
      "\n",
      "\n",
      "Confusion Matrix (Random Subspaces):\n",
      " [[1276    3]\n",
      " [   6   68]]\n"
     ]
    }
   ],
   "source": [
    "#Código para el Random Subspaces\n",
    "param_grid_rs = {\n",
    "    'n_estimators': [50, 100, 150], \n",
    "    'max_features': [0.5, 0.75, 1.0], \n",
    "    'estimator__max_depth': [None, 10, 20]  \n",
    "}\n",
    "\n",
    "cv_iterable = get_cv_iterable(folds=folds, fold_column='fold', train=train)\n",
    "\n",
    "grid_search_rs = GridSearchCV(\n",
    "    estimator=BaggingClassifier(estimator=DecisionTreeClassifier(), random_state=42),\n",
    "    param_grid=param_grid_rs,\n",
    "    scoring='accuracy',\n",
    "    cv=cv_iterable,\n",
    "    n_jobs=-1,\n",
    "    verbose=1\n",
    ")\n",
    "\n",
    "grid_search_rs.fit(X_train, y_train)\n",
    "\n",
    "best_rs_model = grid_search_rs.best_estimator_\n",
    "y_pred_rs_test = best_rs_model.predict(X_test)\n",
    "\n",
    "print(\"Best Parameters (Random Subspaces):\", grid_search_rs.best_params_)\n",
    "print(\"\\nClassification Report (Random Subspaces):\\n\", classification_report(y_test, y_pred_rs_test))\n",
    "print(\"\\nConfusion Matrix (Random Subspaces):\\n\", confusion_matrix(y_test, y_pred_rs_test))"
   ]
  },
  {
   "cell_type": "code",
   "execution_count": null,
   "id": "76a6a3cd-6ef1-4d4e-8bfb-3b3a306aa298",
   "metadata": {},
   "outputs": [],
   "source": []
  },
  {
   "cell_type": "code",
   "execution_count": null,
   "id": "6c085ce2-edf6-4101-9989-307d37d1f9be",
   "metadata": {},
   "outputs": [],
   "source": []
  },
  {
   "cell_type": "code",
   "execution_count": null,
   "id": "f3a745cd-2a8f-4a51-b2a5-ebfce1f8d41a",
   "metadata": {},
   "outputs": [],
   "source": []
  }
 ],
 "metadata": {
  "kernelspec": {
   "display_name": "Python 3 (ipykernel)",
   "language": "python",
   "name": "python3"
  },
  "language_info": {
   "codemirror_mode": {
    "name": "ipython",
    "version": 3
   },
   "file_extension": ".py",
   "mimetype": "text/x-python",
   "name": "python",
   "nbconvert_exporter": "python",
   "pygments_lexer": "ipython3",
   "version": "3.12.4"
  }
 },
 "nbformat": 4,
 "nbformat_minor": 5
}
